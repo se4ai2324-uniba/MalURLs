{
 "cells": [
  {
   "cell_type": "code",
   "execution_count": 23,
   "metadata": {},
   "outputs": [],
   "source": [
    "import alibi_detect\n",
    "alibi_detect.od.__all__\n",
    "from pathlib import Path\n",
    "import numpy as np\n",
    "import pandas as pd\n",
    "from alibi_detect.saving import save_detector, load_detector\n"
   ]
  },
  {
   "cell_type": "code",
   "execution_count": 24,
   "metadata": {},
   "outputs": [],
   "source": [
    "from sklearn.model_selection import train_test_split\n",
    "data = pd.read_csv(\"..\\\\data\\\\urls_with_features_selected.csv\")\n",
    "api_data = pd.read_csv(\"..\\\\data\\\\api_urls.csv\")\n",
    "X = data.loc[:, data.columns != 'type']\n",
    "y = data['type']\n",
    "\n",
    "X_train, X_test, y_train, y_test = train_test_split(X, y, test_size=0.2, random_state=42)"
   ]
  },
  {
   "cell_type": "code",
   "execution_count": 25,
   "metadata": {},
   "outputs": [],
   "source": [
    "import os, sys\n",
    "from alibi_detect.od import IForest\n",
    "from pathlib import Path \n",
    "\n",
    "detector_name = 'IForest'\n",
    "\n",
    "od = IForest(threshold=0.5,  # threshold for outlier score\n",
    "                 n_estimators=100)\n",
    "    \n",
    "    # train\n",
    "od.fit(X_train)\n",
    "    \n",
    "    # save the trained outlier detector\n",
    "save_detector(od, \"\\\\outlier_detector\")"
   ]
  },
  {
   "cell_type": "code",
   "execution_count": 26,
   "metadata": {},
   "outputs": [],
   "source": [
    "od.fit(X_train)"
   ]
  },
  {
   "cell_type": "code",
   "execution_count": 27,
   "metadata": {},
   "outputs": [],
   "source": [
    "od.infer_threshold(\n",
    "    X,\n",
    "    threshold_perc=95\n",
    ")"
   ]
  },
  {
   "cell_type": "code",
   "execution_count": 36,
   "metadata": {},
   "outputs": [
    {
     "name": "stderr",
     "output_type": "stream",
     "text": [
      "c:\\Users\\rosav\\Desktop\\MalURLs\\malurls_env\\Lib\\site-packages\\sklearn\\base.py:465: UserWarning: X does not have valid feature names, but IsolationForest was fitted with feature names\n",
      "  warnings.warn(\n"
     ]
    }
   ],
   "source": [
    "preds = od.predict(\n",
    "   [[2,1,0,17,0,0,0,0,0,0,True,False,9,0,0],\n",
    "    [2,1,0,22,0,0,0,0,0,0,True,False,14,0,0],\n",
    "    [254,51,445,2442,564,46,46546,23,6968,34534,False,False,1544,675,675]],\n",
    "    return_instance_score=True\n",
    ")"
   ]
  },
  {
   "cell_type": "code",
   "execution_count": 37,
   "metadata": {},
   "outputs": [
    {
     "data": {
      "text/plain": [
       "{'data': {'instance_score': array([-0.10139174, -0.10703387,  0.34267297]),\n",
       "  'feature_score': None,\n",
       "  'is_outlier': array([0, 0, 1])},\n",
       " 'meta': {'name': 'IForest',\n",
       "  'online': False,\n",
       "  'data_type': 'tabular',\n",
       "  'version': '0.11.5dev',\n",
       "  'detector_type': 'outlier'}}"
      ]
     },
     "execution_count": 37,
     "metadata": {},
     "output_type": "execute_result"
    }
   ],
   "source": [
    "preds"
   ]
  },
  {
   "cell_type": "code",
   "execution_count": null,
   "metadata": {},
   "outputs": [],
   "source": [
    "labels = outlier_batch.target_names\n",
    "y_pred = od_preds['data']['is_outlier']\n",
    "f1 = f1_score(y_outlier, y_pred)\n",
    "print('F1 score: {:.4f}'.format(f1))\n",
    "cm = confusion_matrix(y_outlier, y_pred)\n",
    "df_cm = pd.DataFrame(cm, index=labels, columns=labels)\n",
    "sns.heatmap(df_cm, annot=True, cbar=True, linewidths=.5)\n",
    "plt.show()"
   ]
  }
 ],
 "metadata": {
  "kernelspec": {
   "display_name": "malurls_env",
   "language": "python",
   "name": "python3"
  },
  "language_info": {
   "codemirror_mode": {
    "name": "ipython",
    "version": 3
   },
   "file_extension": ".py",
   "mimetype": "text/x-python",
   "name": "python",
   "nbconvert_exporter": "python",
   "pygments_lexer": "ipython3",
   "version": "3.11.7"
  }
 },
 "nbformat": 4,
 "nbformat_minor": 2
}
